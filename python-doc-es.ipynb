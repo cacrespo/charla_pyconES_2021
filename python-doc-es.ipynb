{
 "cells": [
  {
   "cell_type": "markdown",
   "metadata": {},
   "source": [
    "# Carlos A. Crespo 🐍🐍\r\n",
    "## Sociólogo que programa / Programador que sociologa ¿?"
   ]
  },
  {
   "cell_type": "markdown",
   "metadata": {},
   "source": [
    "# ¿Tiene sentido traducir al español?\r\n",
    "- El inglés prácticamente es un _must_ en el ámbito informático\r\n",
    "- Cualquier traductor online hace un trabajo superlativo al respecto\r\n",
    "\r\n",
    "Una pequeña anécdota personal..."
   ]
  },
  {
   "cell_type": "markdown",
   "metadata": {},
   "source": [
    "# El impacto es en las palabras y las personas\r\n",
    "Poder contar con textos en español fortalece a las comunidades hispanoparlantes y enriquece por extensión a todas las demás comunidades.\r\n",
    "\r\n",
    "Una segunda pequeña anécdota personal..."
   ]
  },
  {
   "cell_type": "markdown",
   "metadata": {},
   "source": [
    "# Ok. Todo muy lindo... ¿pero qué es lo que hacen?\r\n",
    "- Flujo de trabajo / roles\r\n",
    "- Logros hasta el momento\r\n",
    "- Next steps"
   ]
  },
  {
   "cell_type": "markdown",
   "metadata": {},
   "source": [
    "# Cierre y palabras finales\r\n",
    "- links\r\n",
    "- agradecimientos\r\n",
    "- invitación a sumarse!"
   ]
  }
 ],
 "metadata": {
  "kernelspec": {
   "display_name": "Python 3.8.6 64-bit",
   "name": "python386jvsc74a57bd0ac824d9314dcf3e3ec65ce98774119415516c06c800c55d596a680dfe4488604"
  },
  "language_info": {
   "name": "python",
   "version": ""
  },
  "metadata": {
   "interpreter": {
    "hash": "ac824d9314dcf3e3ec65ce98774119415516c06c800c55d596a680dfe4488604"
   }
  },
  "orig_nbformat": 2
 },
 "nbformat": 4,
 "nbformat_minor": 2
}